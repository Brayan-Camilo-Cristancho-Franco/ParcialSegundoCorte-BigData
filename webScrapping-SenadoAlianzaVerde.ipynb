{
 "cells": [
  {
   "cell_type": "code",
   "execution_count": 1,
   "metadata": {},
   "outputs": [],
   "source": [
    "# Importing required libraries\n",
    "\n",
    "import time\n",
    "\n",
    "from bs4 import BeautifulSoup\n",
    "from selenium import webdriver\n",
    "from selenium.webdriver.common.by import By\n",
    "from pymongo import MongoClient\n",
    "import matplotlib.pyplot as plt\n",
    "%matplotlib inline"
   ]
  },
  {
   "cell_type": "markdown",
   "metadata": {
    "tags": []
   },
   "source": [
    "### Page display simulation"
   ]
  },
  {
   "cell_type": "code",
   "execution_count": 2,
   "metadata": {},
   "outputs": [],
   "source": [
    "# Base URL of the site to be analyzed\n",
    "SITE_URL = 'https://alianzaverde.org.co'"
   ]
  },
  {
   "cell_type": "code",
   "execution_count": 3,
   "metadata": {},
   "outputs": [],
   "source": [
    "# Firefox web driver path\n",
    "# Download the driver for you S.O. here: https://github.com/mozilla/geckodriver/releases\n",
    "DRIVER_PATH = './geckodriver.exe'"
   ]
  },
  {
   "cell_type": "code",
   "execution_count": 4,
   "metadata": {},
   "outputs": [
    {
     "name": "stderr",
     "output_type": "stream",
     "text": [
      "C:\\Users\\JCristancho\\AppData\\Local\\Temp\\ipykernel_12800\\1910320475.py:2: DeprecationWarning: executable_path has been deprecated, please pass in a Service object\n",
      "  browser = webdriver.Firefox(executable_path = DRIVER_PATH)\n"
     ]
    }
   ],
   "source": [
    "# Creating a new firefox window\n",
    "browser = webdriver.Firefox(executable_path = DRIVER_PATH)"
   ]
  },
  {
   "cell_type": "code",
   "execution_count": 5,
   "metadata": {},
   "outputs": [],
   "source": [
    "def make_request(browser,relative_path):\n",
    "    # Making the request and rendering the browser\n",
    "    browser.get(SITE_URL+relative_path)\n",
    "    \n",
    "    # Simulating vertical scrolling for handling lazy load\n",
    "    check_height = browser.execute_script('return document.body.scrollHeight;')\n",
    "    while True:\n",
    "        browser.execute_script('window.scrollTo(0, document.body.scrollHeight);')\n",
    "        time.sleep(5)\n",
    "        height = browser.execute_script('return document.body.scrollHeight;')\n",
    "        if height == check_height: \n",
    "            break \n",
    "        check_height = height\n",
    "    \n",
    "    # Getting HTML content and passing it to BeautifulSoup for scraping analysis\n",
    "    return BeautifulSoup(browser.page_source, 'html.parser')"
   ]
  },
  {
   "cell_type": "code",
   "execution_count": 6,
   "metadata": {},
   "outputs": [],
   "source": [
    " soup = make_request(browser,'/lideres-verdes/congreso-2022/senado-2022')\n"
   ]
  },
  {
   "cell_type": "markdown",
   "metadata": {
    "tags": []
   },
   "source": [
    "### Extract and organize the information of each of the candidates"
   ]
  },
  {
   "cell_type": "code",
   "execution_count": 46,
   "metadata": {},
   "outputs": [
    {
     "name": "stdout",
     "output_type": "stream",
     "text": [
      "36\n"
     ]
    }
   ],
   "source": [
    "# Get HTML content for candidate listing page\n",
    "soup = make_request(browser,'/lideres-verdes/congreso-2022/senado-2022')\n",
    "# Find the section where the data of each of the candidates is contained \n",
    "candidates = soup.find_all(class_ = 'sppb-col-md-3')\n",
    "print(len(candidates))        "
   ]
  },
  {
   "cell_type": "code",
   "execution_count": 47,
   "metadata": {},
   "outputs": [],
   "source": [
    "# Building a list with the url of the photo, the description and social networks of each of the candidates\n",
    "news = []\n",
    "socialmedia = []\n",
    "i = 0\n",
    "for candidate in candidates:\n",
    "    i+=1\n",
    "    socialMediaLinks = ''\n",
    "    if candidate.find(class_ = 'sppb-addon-wrapper')!= None:\n",
    "        if candidate.find('ul',class_ = 'sppb-person-social')!= None:\n",
    "            socialmedia = candidate.find('ul',class_ = 'sppb-person-social').find_all('li')\n",
    "            for x in socialmedia:\n",
    "                socialMediaLinks = socialMediaLinks+' ---- '+ x.find('a')['href']\n",
    "            news.append({ \n",
    "            'Candidate number': i ,\n",
    "            'Photo': 'https://alianzaverde.org.co/'+format (candidate.find('div',class_ = 'sppb-person-image').find(class_='sppb-img-responsive').get('src')),\n",
    "            'Description': candidate.find(class_ = 'person-content-hover-content-wrap').find('span').get_text(),\n",
    "            'Social media': socialMediaLinks\n",
    "            })\n",
    "        else:\n",
    "            news.append({\n",
    "            'Candidate number': i ,\n",
    "            'Photo': 'https://alianzaverde.org.co/'+format(candidate.find('div',class_ = 'sppb-person-image').get('src')),\n",
    "            'Description': candidate.find(class_ = 'person-content-hover-content-wrap').find('span').get_text(),\n",
    "            'Social media': 'Does not have'\n",
    "            })\n",
    "        "
   ]
  },
  {
   "cell_type": "code",
   "execution_count": 48,
   "metadata": {},
   "outputs": [
    {
     "data": {
      "text/plain": [
       "[{'Candidate number': 1,\n",
       "  'Photo': 'https://alianzaverde.org.co//images/Candidatos_2022/senado/2.jpg',\n",
       "  'Description': 'Abogada y filósofa, con un máster en Ciencias de la Administración Pública, en Alemania. Experta en gestión pública, descentralización, transparencia, buen gobierno, modernización del estado, cultura ciudadana y cooperación internacional, temas en los cuales se ha desempeñado alternativamente como servidora pública, consultora y docente.',\n",
       "  'Social media': ' ---- https://twitter.com/VivianaBarbere  ---- https://twitter.com/VivianaBarbere ---- https://www.instagram.com/barberenaviviana/ '},\n",
       " {'Candidate number': 2,\n",
       "  'Photo': 'https://alianzaverde.org.co//images/Candidatos_2022/senado/3.jpg',\n",
       "  'Description': 'Nacida de seres excepcionales, en tiempos inciertos; es la mujer de retos resueltos. Desde el inicio de su carrera política, su liderazgo se enfoca en mantener la cultura de la equidad, la familia y el fortalecimiento económico, político y social de las regiones en Colombia',\n",
       "  'Social media': ' ---- https://www.facebook.com/sandraortizsenadora ---- https://twitter.com/sandraortizn ---- https://www.youtube.com/channel/UCTwjhE_bLZS72l0RqI_u4OQ/featured ---- https://www.instagram.com/sandraortizn'},\n",
       " {'Candidate number': 3,\n",
       "  'Photo': 'https://alianzaverde.org.co//images/Candidatos_2022/senado/5.jpg',\n",
       "  'Description': 'Destacado Senador de la República en el año 2010 fue disciplinado y estricto en el cumplimiento de su función en la producción legislativa y el ejercicio del control político; en particular, participó de forma definitiva en los Proyectos de Ley y de Acto Legislativo trascendentales para el país.',\n",
       "  'Social media': ' ---- https://www.facebook.com/JorgeELondonoU/ ---- https://twitter.com/JorgeELondonoU ---- https://youtube.com/user/JorgeLondonoUlloa ---- http://instagram.com/jorgeelondonou'},\n",
       " {'Candidate number': 4,\n",
       "  'Photo': 'https://alianzaverde.org.co//images/Candidatos_2022/senado/7.jpg',\n",
       "  'Description': 'Egresado de la Facultad de Derecho de la Pontificia Universidad Javeriana; fue Diputado a la Asamblea de Cundinamarca, Concejal, Representante a la Cámara por Bogotá y Senador, además de ser fundador del Partido Alianza Verde. Correo de contacto',\n",
       "  'Social media': ' ---- https://www.facebook.com/SenadorIvanName  ---- / https://twitter.com/IvanNameVasquez  ---- https://www.instagram.com/ivannamevasquez/ '},\n",
       " {'Candidate number': 5,\n",
       "  'Photo': 'https://alianzaverde.org.co//images/Candidatos_2022/senado/8.jpg',\n",
       "  'Description': 'Como congresista pertenece a la Comisión sexta, la comisión de paz y la Comisión de Derechos Humanos. Ha presentado iniciativas para reformar el sistema general de participaciones y la jornada laboral. Ha presentado proyectos de ley que fortalezcan la nutrición saludable, el internet gratuito, el financiamiento a los cuerpos de bomberos, la creación de las provincias, entre otras.',\n",
       "  'Social media': ' ---- https://www.facebook.com/Leonfredym ---- https://twitter.com/LeonFredyM  ---- https://www.instagram.com/leonfredymunozl'},\n",
       " {'Candidate number': 6,\n",
       "  'Photo': 'https://alianzaverde.org.co//images/Candidatos_2022/senado/10.jpg',\n",
       "  'Description': 'Ciudadana, activista cívica, abogada y Senadora de 2018 a 2022 por el partido Alianza Verde. Representante a la Cámara por Bogotá en 2014 - 2018. Magíster en Gerencia y Práctica del Desarrollo en la Universidad de los Andes y becaria del Instituto Nacional Demócrata (NDI).',\n",
       "  'Social media': ' ---- https://www.facebook.com/angelicalozanocorrea/  ---- https://twitter.com/AngelicaLozanoC  ---- https://www.youtube.com/user/bogotaserespeta ---- https://www.instagram.com/angelicalozano10/'},\n",
       " {'Candidate number': 7,\n",
       "  'Photo': 'https://alianzaverde.org.co//images/Candidatos_2022/senado/12.jpg',\n",
       "  'Description': 'Nacida en Villa de Leyva Boyacá. Desde su infancia se caracterizó por el amor a su familia, solidaridad y capacidad de asumir retos. Ingeniera Industrial de la Universidad Pedagógica y Tecnológica de Colombia, con una Maestría en en pensamiento estratégico y perspectiva de la Universidad Externado de Colombia.',\n",
       "  'Social media': ' ---- / https://www.facebook.com/karolina.jerez  ---- https://twitter.com/CaroEspitiaJ  ---- https://www.instagram.com/caroespitiaj/ '},\n",
       " {'Candidate number': 8,\n",
       "  'Photo': 'https://alianzaverde.org.co//images/Candidatos_2022/senado/14.jpg',\n",
       "  'Description': 'Profesora universitaria. Autora de varias publicaciones sobre derechos animales y justicia juvenil restaurativa (Beca de Investigación del Grupo Coímbra. Programa de Becas para Jóvenes Profesores e Investigadores de Universidades de América Latina, 2009). Columnista ocasional de varios medios de comunicación.',\n",
       "  'Social media': ' ---- https://www.facebook.com/andreanimalidad ---- https://twitter.com/andreanimalidad  ---- https://www.youtube.com/channel/UCnJ85DTEYtqUJ1o9wQLsbyA  ---- https://www.instagram.com/andreanimalidad'},\n",
       " {'Candidate number': 9,\n",
       "  'Photo': 'https://alianzaverde.org.co//images/Candidatos_2022/senado/18.jpg',\n",
       "  'Description': 'Magíster en Gestión de la Tecnología Educativa. Ex presidente de Sindimaestros en Boyacá. Ex presidente de FECODE y actualmente Ejecutivo (tesorero)Dirigente estudiantil, sindical, social y político desde hace 32 años.',\n",
       "  'Social media': ' ---- https://www.facebook.com/nelson.alarconsuarez.16  ---- https://twitter.com/Nelsonalarcon74  ---- https://www.youtube.com/channel/UC0yGgG_Jj4cUa8kdv_J5n2w  ---- https://www.instagram.com/nelsonalarcon74/ '},\n",
       " {'Candidate number': 10,\n",
       "  'Photo': 'https://alianzaverde.org.co//images/Candidatos_2022/senado/20.jpg',\n",
       "  'Description': 'Nació en Pereira en 1946, el cuarto de once hermanos, en la época de la Violencia… cuando liberales y conservadores se mataban. Por eso desde pequeño sabe que lo más importante para el país es que las personas aprendamos a convivir, a dignificar la existencia humana.',\n",
       "  'Social media': ' ---- https://www.facebook.com/IvanMarulandaGomez ---- https://twitter.com/ivanmarulanda ---- https://www.youtube.com/c/IvánMarulandaGomezCo  ---- https://www.instagram.com/ivanmarulandagomez/ '},\n",
       " {'Candidate number': 11,\n",
       "  'Photo': 'https://alianzaverde.org.co//images/Candidatos_2022/senado/22.jpg',\n",
       "  'Description': 'Miembro de la Comisión Segunda del Senado y Co-Presidente de la Comisión de Paz. Sociólogo, Magíster en Desarrollo Regional de la Universidad de Los Andes y Doctor en Gobierno y Administración Pública de la Universidad Complutense de Madrid. Fue Concejal de Bogotá de 2008 a diciembre de 2017.',\n",
       "  'Social media': ' ---- https://www.facebook.com/antonio.sanguino.79  ---- https://twitter.com/AntonioSanguino ---- https://www.youtube.com/channel/UC7yjLuIJdAaJXoIRDSEChHw  ---- https://www.instagram.com/antonio_sanguino '},\n",
       " {'Candidate number': 12,\n",
       "  'Photo': 'https://alianzaverde.org.co//images/Candidatos_2022/senado/26.jpg',\n",
       "  'Description': 'Líder ambiental de Piedecuesta, ha sido visible en el movimiento ambiental del departamento. Trabajó en la Alcaldía de Piedecuesta en la Oficina de Control Interno. Terminó materias de administración de empresas en la Universidad Cooperativa de Colombia, y es perito certificado por la Lonja de Propiedad horizontal, así como tecnólogo del Sena en mercado y venta de bienes inmuebles.',\n",
       "  'Social media': ' ---- https://www.facebook.com/fabiandiazcomunidad/  ---- https://twitter.com/FabianDiazPlata  ---- https://instagram.com/fabiandiaz.plata '},\n",
       " {'Candidate number': 13,\n",
       "  'Photo': 'https://alianzaverde.org.co//images/Candidatos_2022/senado/28.jpg',\n",
       "  'Description': 'Abogada de la Universidad Nacional de Colombia, trabajó con la Rama Judicial y el Acueducto de Bogotá como asesora jurídica. Actualmente es abogada militante. Literaria y novelista con publicaciones de sus escritos. Trabaja con la cultura y la comunidad en asuntos sociales.',\n",
       "  'Social media': ' ---- https://www.facebook.com/PartidoAlianzaVerde'},\n",
       " {'Candidate number': 14,\n",
       "  'Photo': 'https://alianzaverde.org.co//images/Candidatos_2022/senado/30.jpg',\n",
       "  'Description': 'Profesional en Gobierno y Relaciones internacionales con maestría en Desarrollo Regional y dos años de experiencia en en entidades de cooperación internacional y del Estado. Enfoque de trabajo en gobernanza, construcción de paz, transparencia y equidad de género.',\n",
       "  'Social media': ' ---- https://www.facebook.com/Linaarangorisaralda  ---- https://twitter.com/linamariaarango ---- https://www.instagram.com/linaarangosenadora/ '},\n",
       " {'Candidate number': 15,\n",
       "  'Photo': 'https://alianzaverde.org.co//images/Candidatos_2022/senado/32.jpg',\n",
       "  'Description': 'Activista estudiantil vinculado a las luchas agrarias de los campesinos por la tierra para quien la trabaja de la ANUC línea Sincelejo. Fundador de la Asociación de adjudicatarios de vivienda del ICT y UPAC, fue su Presidente, Miembro destacado del Consejo Nacional de los pueblos cívicos comunales y la Coordinadora de Vivienda Popular en los años 1980. Líder sindical de la subdirectiva sindical de Telecom en Montería Córdoba, Miembro vicepresidente de  Consejo de planeación territorial del Atlántico en la primera generación de consejeros con el nacimiento de la ley de participación territorial. ',\n",
       "  'Social media': ' ---- https://www.facebook.com/PartidoAlianzaVerde/'},\n",
       " {'Candidate number': 16,\n",
       "  'Photo': 'https://alianzaverde.org.co//images/Candidatos_2022/senado/34.jpg',\n",
       "  'Description': 'Abogado de la Universidad de los Andes, especialista en Estado, Políticas públicas y Desarrollo. Activista social y medio ambiental. Autor del libro titulado “Agua” fiel creyente de los cambios a través del proceso democrático y participativo, basado en los principios progresistas.',\n",
       "  'Social media': ' ---- https://www.facebook.com/Frankcanossa  ---- / https://twitter.com/canossafrank  ---- https://www.instagram.com/canossafrank/ '},\n",
       " {'Candidate number': 17,\n",
       "  'Photo': 'https://alianzaverde.org.co//images/Candidatos_2022/senado/36.jpg',\n",
       "  'Description': 'Abogado de la Universidad de los Andes, Especialista en Derecho, Magíster en Educación y en Derecho, Doctor en Derecho (PDH). INVESTIGADOR SENIOR RECONOCIDO POR MIN CIENCIAS. AUTOR DE DIFERENTES LIBROS EN ÁREAS EDUCATIVAS Y JURÍDICAS.',\n",
       "  'Social media': ' ---- https://www.facebook.com/js.perilla117 ---- https://twitter.com/juansperilla  ---- https://www.instagram.com/juansperilla/ '},\n",
       " {'Candidate number': 18,\n",
       "  'Photo': 'https://alianzaverde.org.co//images/Candidatos_2022/senado/38.jpg',\n",
       "  'Description': 'Secretario de Educación del Departamento de Bolívar. -Primer Secretario de Educación del Distrito de Cartagena. Gobernador del Departamento de Bolívar, por elección popular. -Presidente del Consejo Superior de la Universidad de Cartagena. -Docente Especial Tiempo Completo- Escuela Superior de Administración Pública-ESAP. ',\n",
       "  'Social media': ' ---- /www.facebook.com/luis.d.sanchez.16 ---- https://twitter.com/LuisDanieVargas ---- https://www.instagram.com/luisdvargass/'},\n",
       " {'Candidate number': 19,\n",
       "  'Photo': 'https://alianzaverde.org.co//images/Candidatos_2022/senado/40.jpg',\n",
       "  'Description': 'Nacido en Samaná Caldas, estudió economía y comercio exterior en la Universidad de los Libertadores. Empresario enfocado en el sector inmobiliario.  Su apuesta está centrada en el sector campo.',\n",
       "  'Social media': ' ---- https://www.facebook.com/JorgeELondonoU/ ---- https://twitter.com/JorgeELondonoU ---- https://youtube.com/user/JorgeLondonoUlloa ---- http://instagram.com/jorgeelondonou'},\n",
       " {'Candidate number': 20,\n",
       "  'Photo': 'https://alianzaverde.org.co//images/Candidatos_2022/senado/42.jpg',\n",
       "  'Description': 'Bogotana, Abogada defensora de los derechos humanos, de la inclusión y diversidad, de los animales y el medio ambiente. Abogada litigante. Experiencia en Secretaría General de la Contraloría de  Cundinamarca, Personera Delegada para Protección a Víctimas, Personera Delegada para Seguridad y Convivencia, Directora y Subdirectora del Proceso de Responsabilidad Fiscal y Cobro Coactivo de la Contraloría de Bogotá.',\n",
       "  'Social media': ' ---- https://www.facebook.com/PartidoAlianzaVerde/'},\n",
       " {'Candidate number': 21,\n",
       "  'Photo': 'https://alianzaverde.org.co//images/Candidatos_2022/senado/44.jpg',\n",
       "  'Description': 'Soy filósofa de la Universidad del Valle con Maestría en Estudios Políticos de la U. Javeriana, he ejercido la cátedra universitaria. Tengo una larga trayectoria como defensora de Derechos Humanos, y he desplegado un rico liderazgo social que me ha llevado a hacer contribuciones significativas al lado de los movimientos sociales y las víctimas del conflicto social y armado.',\n",
       "  'Social media': ' ---- https://www.facebook.com/liliasolanor ---- https://twitter.com/liliasolanor  ---- https://www.youtube.com/channel/UCv9HqVyXEOHWXmkwFINOOeA ---- https://www.instagram.com/liliasolanor/'},\n",
       " {'Candidate number': 22,\n",
       "  'Photo': 'https://alianzaverde.org.co//images/Candidatos_2022/senado/48.jpg',\n",
       "  'Description': 'Economista, magíster en gobierno. Reconocido por su sentido social, responsable, honesto, innovador, creativo y social. Ha desarrollado proyectos comunitarios y gobernabilidad en más de 43 consejos comunitarios en el territorio ancestral del norte del Cauca.',\n",
       "  'Social media': ' ---- https://www.facebook.com/victorhugomorenom ---- https://twitter.com/VictorMorenoMin ---- https://www.youtube.com/channel/UCYM3_NTBTRheRYsJd2cLMgw'},\n",
       " {'Candidate number': 23,\n",
       "  'Photo': 'https://alianzaverde.org.co//images/Candidatos_2022/senado/52.jpg',\n",
       "  'Description': 'Empresaria, consultora organizacional en procesos de transformación. Víctima del atentado de las Farc al Club El Nogal. Incapacitada durante 8+años. Fui mi propio laboratorio de Perdón y Reconciliación. Ayudo a sanar corazones de víctimas y victimarios. Dirijo Encuentros Transformadores entre diversos (30años).  Pienso crear la política pública para la Transformación y Reconciliación.',\n",
       "  'Social media': ' ---- https://www.youtube.com/channel/UC4S3hcMJV5jq4jXEs8Ltjow/videos ---- https://www.instagram.com/encuentrotransformador/'},\n",
       " {'Candidate number': 24,\n",
       "  'Photo': 'https://alianzaverde.org.co//images/Candidatos_2022/senado/54.jpg',\n",
       "  'Description': 'Creador de contenido digital político, reconocido por google con la placa de oro. Activista y líder político en redes sociales.',\n",
       "  'Social media': ' ---- https://www.facebook.com/JotaPeHernandez ---- https://twitter.com/JotaPeHernandez ---- https://www.youtube.com/c/JotaPeHernandez ---- https://www.instagram.com/jotapehernandez/'},\n",
       " {'Candidate number': 25,\n",
       "  'Photo': 'https://alianzaverde.org.co//images/Candidatos_2022/senado/56.jpg',\n",
       "  'Description': 'DALIA FERNANDA PINEDA',\n",
       "  'Social media': ' ---- https://twitter.com/JorgeELondonoU'},\n",
       " {'Candidate number': 26,\n",
       "  'Photo': 'https://alianzaverde.org.co//images/Candidatos_2022/senado/58.jpg',\n",
       "  'Description': 'Abogado de la Universidad de Medellín, experto en derecho civil extracontractual y de tránsito. Creador del movimiento Sí Se Puede. ',\n",
       "  'Social media': ' ---- https://www.facebook.com/SiSePuedeHernanEcheverri ---- https://twitter.com/hernansisepuede ---- https://www.youtube.com/channel/UCsD8WQMHxyI46Mh7AE3xHpA ---- https://instagram.com/hernanecheverrisisepuede'},\n",
       " {'Candidate number': 27,\n",
       "  'Photo': 'https://alianzaverde.org.co//images/Candidatos_2022/senado/60.jpg',\n",
       "  'Description': 'Ex concejal de Manizales por el Partido Alianza Verde, en donde ha liderado y tenido resultados alrededor de la defensa y protección de los animales, logrando posicionar a la ciudad de Manizales como ejemplo de región en el manejo de Fauna Doméstica.',\n",
       "  'Social media': ' ---- https://www.facebook.com/Hemayr.concejal  ---- / https://twitter.com/Hemayr ---- https://www.instagram.com/hemayr.senador/'},\n",
       " {'Candidate number': 28,\n",
       "  'Photo': 'https://alianzaverde.org.co//images/Candidatos_2022/senado/62.jpg',\n",
       "  'Description': 'Representante de los Usuarios del ICETEX y líder del movimiento el ICETEX TE ARRUINA. Desde el 2013 ha investigado las anomalías del modelo de financiación y ha aunado esfuerzos en el Congreso de la República para lograr 4 leyes que podrían beneficiar a más de 800 mil usuarios.',\n",
       "  'Social media': ' ---- https://www.facebook.com/icetextearruina/  ---- https://twitter.com/danieltorres086  ---- https://www.youtube.com/c/ICETEXTEARRUINA '},\n",
       " {'Candidate number': 29,\n",
       "  'Photo': 'https://alianzaverde.org.co/None',\n",
       "  'Description': 'Economista, Magíster en Economía de la Universidad Javeriana y especialista en Gobierno de la Universidad de Columbia de Nueva York. Desde hace 9 años es consultor de las Naciones Unidas en el tema de seguridad ciudadana.',\n",
       "  'Social media': 'Does not have'},\n",
       " {'Candidate number': 30,\n",
       "  'Photo': 'https://alianzaverde.org.co//images/Candidatos_2022/senado/69.jpg',\n",
       "  'Description': 'Politólogo, periodista. Ex subdirector de la fundación Paz y Reconciliación. Cuenta con más de 30 publicaciones.',\n",
       "  'Social media': ' ---- https://www.facebook.com/ArielAvilaAnaliza  ---- https://twitter.com/ArielAnaliza ---- https://www.youtube.com/c/ArielÁvilaAnaliza  '},\n",
       " {'Candidate number': 31,\n",
       "  'Photo': 'https://alianzaverde.org.co//images/Candidatos_2022/senado/70.jpg',\n",
       "  'Description': 'Comunicadora social y periodista, especializada en recursos humanos. Emprendedora del campo y productos orgánicos. Ambientalista por convicción, activista política y social.',\n",
       "  'Social media': ' ---- /www.facebook.com/adriana.prieto.7921 ---- https://twitter.com/AdriPrietoYopal  ---- https://www.instagram.com/adrianaprietovargas/ '},\n",
       " {'Candidate number': 32,\n",
       "  'Photo': 'https://alianzaverde.org.co//images/Candidatos_2022/senado/91.jpg',\n",
       "  'Description': 'Arley Fernando Gómez',\n",
       "  'Social media': ' ---- https://www.facebook.com/ArleyFGomez  ---- https://twitter.com/ArleyFGomez  ---- https://www.instagram.com/arleyfernandogomez/ '},\n",
       " {'Candidate number': 33,\n",
       "  'Photo': 'https://alianzaverde.org.co//images/Candidatos_2022/senado/98.jpg',\n",
       "  'Description': 'Abogada, candidata a Magíster en D. con énfasis en DD.HH y justicia transicional. Especialista en derecho público, planeación estratégica urbana y Gerencia del Ambiente. Cuenta con más de 19 años de experiencia en el sector público, en el nivel directivo de entidades sociales y orientación a la garantía de los derechos humanos. ',\n",
       "  'Social media': ' ---- https://www.facebook.com/AmericaMillaresE/  ---- https://twitter.com/amerikamillares '},\n",
       " {'Candidate number': 34,\n",
       "  'Photo': 'https://alianzaverde.org.co//images/Candidatos_2022/senado/100.jpg',\n",
       "  'Description': 'Desde el Congreso de la República ha liderado importantes debates de control político en los que ha mostrado su conocimiento y liderazgo en la defensa del medio ambiente y las comunidades vulnerables de la ciudad. ha trabajado por: Cierre del Relleno Sanitario Doña Juana, Defensa de la reserva ambiental Thomas Van del Hammen, Rechazo a la Ley 1801 de 2016 - Código de Policía, Defensa de los vendedores informales, Metro de Bogotá.',\n",
       "  'Social media': ' ---- https://www.facebook.com/intiasprilla  ---- https://twitter.com/intiasprilla  ---- https://www.youtube.com/c/IntiRa%C3%BAlAsprillaReyes  ---- https://www.instagram.com/intiasprilla/ '}]"
      ]
     },
     "execution_count": 48,
     "metadata": {},
     "output_type": "execute_result"
    }
   ],
   "source": [
    "news"
   ]
  }
 ],
 "metadata": {
  "kernelspec": {
   "display_name": "Python 3 (ipykernel)",
   "language": "python",
   "name": "python3"
  },
  "language_info": {
   "codemirror_mode": {
    "name": "ipython",
    "version": 3
   },
   "file_extension": ".py",
   "mimetype": "text/x-python",
   "name": "python",
   "nbconvert_exporter": "python",
   "pygments_lexer": "ipython3",
   "version": "3.10.3"
  }
 },
 "nbformat": 4,
 "nbformat_minor": 4
}
